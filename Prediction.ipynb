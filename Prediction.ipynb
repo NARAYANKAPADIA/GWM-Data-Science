{
 "cells": [
  {
   "cell_type": "markdown",
   "metadata": {},
   "source": [
    "# Groww With Code Internship Program"
   ]
  },
  {
   "cell_type": "markdown",
   "metadata": {},
   "source": [
    "## Beginner Level Task "
   ]
  },
  {
   "cell_type": "markdown",
   "metadata": {},
   "source": [
    "### Stock Market Prediction and Forcasting using stacked LSTM"
   ]
  },
  {
   "cell_type": "markdown",
   "metadata": {},
   "source": [
    "##### Import Librarys"
   ]
  },
  {
   "cell_type": "code",
   "execution_count": 45,
   "metadata": {},
   "outputs": [],
   "source": [
    "import numpy as np\n",
    "import pandas as pd\n",
    "import matplotlib.pyplot as plt\n",
    "import seaborn as sns\n",
    "import math\n",
    "from sklearn.preprocessing import MinMaxScaler\n",
    "from sklearn.metrics import mean_squared_error\n",
    "import tensorflow as tf\n",
    "from tensorflow.keras.models import Sequential\n",
    "from tensorflow.keras.layers import LSTM, Dense\n",
    "%matplotlib inline"
   ]
  },
  {
   "cell_type": "markdown",
   "metadata": {},
   "source": [
    "### Load Dataset"
   ]
  },
  {
   "cell_type": "code",
   "execution_count": 46,
   "metadata": {},
   "outputs": [
    {
     "data": {
      "text/html": [
       "<div>\n",
       "<style scoped>\n",
       "    .dataframe tbody tr th:only-of-type {\n",
       "        vertical-align: middle;\n",
       "    }\n",
       "\n",
       "    .dataframe tbody tr th {\n",
       "        vertical-align: top;\n",
       "    }\n",
       "\n",
       "    .dataframe thead th {\n",
       "        text-align: right;\n",
       "    }\n",
       "</style>\n",
       "<table border=\"1\" class=\"dataframe\">\n",
       "  <thead>\n",
       "    <tr style=\"text-align: right;\">\n",
       "      <th></th>\n",
       "      <th>Date</th>\n",
       "      <th>Symbol</th>\n",
       "      <th>Series</th>\n",
       "      <th>Prev Close</th>\n",
       "      <th>Open</th>\n",
       "      <th>High</th>\n",
       "      <th>Low</th>\n",
       "      <th>Last</th>\n",
       "      <th>Close</th>\n",
       "      <th>VWAP</th>\n",
       "      <th>Volume</th>\n",
       "      <th>Turnover</th>\n",
       "      <th>Trades</th>\n",
       "      <th>Deliverable Volume</th>\n",
       "      <th>%Deliverble</th>\n",
       "    </tr>\n",
       "  </thead>\n",
       "  <tbody>\n",
       "    <tr>\n",
       "      <th>0</th>\n",
       "      <td>2007-11-27</td>\n",
       "      <td>MUNDRAPORT</td>\n",
       "      <td>EQ</td>\n",
       "      <td>440.00</td>\n",
       "      <td>770.00</td>\n",
       "      <td>1050.00</td>\n",
       "      <td>770.0</td>\n",
       "      <td>959.0</td>\n",
       "      <td>962.90</td>\n",
       "      <td>984.72</td>\n",
       "      <td>27294366</td>\n",
       "      <td>2.687719e+15</td>\n",
       "      <td>NaN</td>\n",
       "      <td>9859619</td>\n",
       "      <td>0.3612</td>\n",
       "    </tr>\n",
       "    <tr>\n",
       "      <th>1</th>\n",
       "      <td>2007-11-28</td>\n",
       "      <td>MUNDRAPORT</td>\n",
       "      <td>EQ</td>\n",
       "      <td>962.90</td>\n",
       "      <td>984.00</td>\n",
       "      <td>990.00</td>\n",
       "      <td>874.0</td>\n",
       "      <td>885.0</td>\n",
       "      <td>893.90</td>\n",
       "      <td>941.38</td>\n",
       "      <td>4581338</td>\n",
       "      <td>4.312765e+14</td>\n",
       "      <td>NaN</td>\n",
       "      <td>1453278</td>\n",
       "      <td>0.3172</td>\n",
       "    </tr>\n",
       "    <tr>\n",
       "      <th>2</th>\n",
       "      <td>2007-11-29</td>\n",
       "      <td>MUNDRAPORT</td>\n",
       "      <td>EQ</td>\n",
       "      <td>893.90</td>\n",
       "      <td>909.00</td>\n",
       "      <td>914.75</td>\n",
       "      <td>841.0</td>\n",
       "      <td>887.0</td>\n",
       "      <td>884.20</td>\n",
       "      <td>888.09</td>\n",
       "      <td>5124121</td>\n",
       "      <td>4.550658e+14</td>\n",
       "      <td>NaN</td>\n",
       "      <td>1069678</td>\n",
       "      <td>0.2088</td>\n",
       "    </tr>\n",
       "    <tr>\n",
       "      <th>3</th>\n",
       "      <td>2007-11-30</td>\n",
       "      <td>MUNDRAPORT</td>\n",
       "      <td>EQ</td>\n",
       "      <td>884.20</td>\n",
       "      <td>890.00</td>\n",
       "      <td>958.00</td>\n",
       "      <td>890.0</td>\n",
       "      <td>929.0</td>\n",
       "      <td>921.55</td>\n",
       "      <td>929.17</td>\n",
       "      <td>4609762</td>\n",
       "      <td>4.283257e+14</td>\n",
       "      <td>NaN</td>\n",
       "      <td>1260913</td>\n",
       "      <td>0.2735</td>\n",
       "    </tr>\n",
       "    <tr>\n",
       "      <th>4</th>\n",
       "      <td>2007-12-03</td>\n",
       "      <td>MUNDRAPORT</td>\n",
       "      <td>EQ</td>\n",
       "      <td>921.55</td>\n",
       "      <td>939.75</td>\n",
       "      <td>995.00</td>\n",
       "      <td>922.0</td>\n",
       "      <td>980.0</td>\n",
       "      <td>969.30</td>\n",
       "      <td>965.65</td>\n",
       "      <td>2977470</td>\n",
       "      <td>2.875200e+14</td>\n",
       "      <td>NaN</td>\n",
       "      <td>816123</td>\n",
       "      <td>0.2741</td>\n",
       "    </tr>\n",
       "  </tbody>\n",
       "</table>\n",
       "</div>"
      ],
      "text/plain": [
       "         Date      Symbol Series  Prev Close    Open     High    Low   Last  \\\n",
       "0  2007-11-27  MUNDRAPORT     EQ      440.00  770.00  1050.00  770.0  959.0   \n",
       "1  2007-11-28  MUNDRAPORT     EQ      962.90  984.00   990.00  874.0  885.0   \n",
       "2  2007-11-29  MUNDRAPORT     EQ      893.90  909.00   914.75  841.0  887.0   \n",
       "3  2007-11-30  MUNDRAPORT     EQ      884.20  890.00   958.00  890.0  929.0   \n",
       "4  2007-12-03  MUNDRAPORT     EQ      921.55  939.75   995.00  922.0  980.0   \n",
       "\n",
       "    Close    VWAP    Volume      Turnover  Trades  Deliverable Volume  \\\n",
       "0  962.90  984.72  27294366  2.687719e+15     NaN             9859619   \n",
       "1  893.90  941.38   4581338  4.312765e+14     NaN             1453278   \n",
       "2  884.20  888.09   5124121  4.550658e+14     NaN             1069678   \n",
       "3  921.55  929.17   4609762  4.283257e+14     NaN             1260913   \n",
       "4  969.30  965.65   2977470  2.875200e+14     NaN              816123   \n",
       "\n",
       "   %Deliverble  \n",
       "0       0.3612  \n",
       "1       0.3172  \n",
       "2       0.2088  \n",
       "3       0.2735  \n",
       "4       0.2741  "
      ]
     },
     "execution_count": 46,
     "metadata": {},
     "output_type": "execute_result"
    }
   ],
   "source": [
    "data = pd.read_csv(\"ADANIPORTS.csv\")\n",
    "data.head()"
   ]
  },
  {
   "cell_type": "code",
   "execution_count": 47,
   "metadata": {},
   "outputs": [
    {
     "data": {
      "text/html": [
       "<div>\n",
       "<style scoped>\n",
       "    .dataframe tbody tr th:only-of-type {\n",
       "        vertical-align: middle;\n",
       "    }\n",
       "\n",
       "    .dataframe tbody tr th {\n",
       "        vertical-align: top;\n",
       "    }\n",
       "\n",
       "    .dataframe thead th {\n",
       "        text-align: right;\n",
       "    }\n",
       "</style>\n",
       "<table border=\"1\" class=\"dataframe\">\n",
       "  <thead>\n",
       "    <tr style=\"text-align: right;\">\n",
       "      <th></th>\n",
       "      <th>Prev Close</th>\n",
       "      <th>Open</th>\n",
       "      <th>High</th>\n",
       "      <th>Low</th>\n",
       "      <th>Last</th>\n",
       "      <th>Close</th>\n",
       "      <th>VWAP</th>\n",
       "      <th>Volume</th>\n",
       "      <th>Turnover</th>\n",
       "      <th>Trades</th>\n",
       "      <th>Deliverable Volume</th>\n",
       "      <th>%Deliverble</th>\n",
       "    </tr>\n",
       "  </thead>\n",
       "  <tbody>\n",
       "    <tr>\n",
       "      <th>count</th>\n",
       "      <td>3322.000000</td>\n",
       "      <td>3322.000000</td>\n",
       "      <td>3322.000000</td>\n",
       "      <td>3322.000000</td>\n",
       "      <td>3322.000000</td>\n",
       "      <td>3322.000000</td>\n",
       "      <td>3322.000000</td>\n",
       "      <td>3.322000e+03</td>\n",
       "      <td>3.322000e+03</td>\n",
       "      <td>2.456000e+03</td>\n",
       "      <td>3.322000e+03</td>\n",
       "      <td>3322.000000</td>\n",
       "    </tr>\n",
       "    <tr>\n",
       "      <th>mean</th>\n",
       "      <td>344.114314</td>\n",
       "      <td>344.763019</td>\n",
       "      <td>351.608007</td>\n",
       "      <td>337.531969</td>\n",
       "      <td>344.239539</td>\n",
       "      <td>344.201626</td>\n",
       "      <td>344.853182</td>\n",
       "      <td>2.954564e+06</td>\n",
       "      <td>1.070144e+14</td>\n",
       "      <td>4.492259e+04</td>\n",
       "      <td>1.207441e+06</td>\n",
       "      <td>0.445899</td>\n",
       "    </tr>\n",
       "    <tr>\n",
       "      <th>std</th>\n",
       "      <td>192.936882</td>\n",
       "      <td>193.619992</td>\n",
       "      <td>198.617808</td>\n",
       "      <td>188.676614</td>\n",
       "      <td>193.187813</td>\n",
       "      <td>193.045886</td>\n",
       "      <td>193.841305</td>\n",
       "      <td>4.104227e+06</td>\n",
       "      <td>2.625564e+14</td>\n",
       "      <td>5.023124e+04</td>\n",
       "      <td>1.398640e+06</td>\n",
       "      <td>0.160496</td>\n",
       "    </tr>\n",
       "    <tr>\n",
       "      <th>min</th>\n",
       "      <td>108.000000</td>\n",
       "      <td>108.000000</td>\n",
       "      <td>110.450000</td>\n",
       "      <td>105.650000</td>\n",
       "      <td>108.000000</td>\n",
       "      <td>108.000000</td>\n",
       "      <td>108.340000</td>\n",
       "      <td>1.236600e+04</td>\n",
       "      <td>2.415857e+11</td>\n",
       "      <td>3.660000e+02</td>\n",
       "      <td>5.383000e+03</td>\n",
       "      <td>0.067000</td>\n",
       "    </tr>\n",
       "    <tr>\n",
       "      <th>25%</th>\n",
       "      <td>164.312500</td>\n",
       "      <td>164.850000</td>\n",
       "      <td>168.000000</td>\n",
       "      <td>161.600000</td>\n",
       "      <td>164.075000</td>\n",
       "      <td>164.312500</td>\n",
       "      <td>164.855000</td>\n",
       "      <td>7.493682e+05</td>\n",
       "      <td>1.817650e+13</td>\n",
       "      <td>2.083200e+04</td>\n",
       "      <td>3.212005e+05</td>\n",
       "      <td>0.332900</td>\n",
       "    </tr>\n",
       "    <tr>\n",
       "      <th>50%</th>\n",
       "      <td>324.700000</td>\n",
       "      <td>325.750000</td>\n",
       "      <td>331.275000</td>\n",
       "      <td>319.850000</td>\n",
       "      <td>325.000000</td>\n",
       "      <td>324.700000</td>\n",
       "      <td>325.765000</td>\n",
       "      <td>2.007292e+06</td>\n",
       "      <td>5.836041e+13</td>\n",
       "      <td>3.588150e+04</td>\n",
       "      <td>8.132775e+05</td>\n",
       "      <td>0.445650</td>\n",
       "    </tr>\n",
       "    <tr>\n",
       "      <th>75%</th>\n",
       "      <td>400.912500</td>\n",
       "      <td>401.000000</td>\n",
       "      <td>407.187500</td>\n",
       "      <td>395.000000</td>\n",
       "      <td>400.912500</td>\n",
       "      <td>400.912500</td>\n",
       "      <td>400.607500</td>\n",
       "      <td>3.636883e+06</td>\n",
       "      <td>1.158526e+14</td>\n",
       "      <td>5.336875e+04</td>\n",
       "      <td>1.605528e+06</td>\n",
       "      <td>0.555850</td>\n",
       "    </tr>\n",
       "    <tr>\n",
       "      <th>max</th>\n",
       "      <td>1307.450000</td>\n",
       "      <td>1310.250000</td>\n",
       "      <td>1324.000000</td>\n",
       "      <td>1270.000000</td>\n",
       "      <td>1308.000000</td>\n",
       "      <td>1307.450000</td>\n",
       "      <td>1302.150000</td>\n",
       "      <td>9.771788e+07</td>\n",
       "      <td>8.160988e+15</td>\n",
       "      <td>1.205984e+06</td>\n",
       "      <td>2.241652e+07</td>\n",
       "      <td>0.979800</td>\n",
       "    </tr>\n",
       "  </tbody>\n",
       "</table>\n",
       "</div>"
      ],
      "text/plain": [
       "        Prev Close         Open         High          Low         Last  \\\n",
       "count  3322.000000  3322.000000  3322.000000  3322.000000  3322.000000   \n",
       "mean    344.114314   344.763019   351.608007   337.531969   344.239539   \n",
       "std     192.936882   193.619992   198.617808   188.676614   193.187813   \n",
       "min     108.000000   108.000000   110.450000   105.650000   108.000000   \n",
       "25%     164.312500   164.850000   168.000000   161.600000   164.075000   \n",
       "50%     324.700000   325.750000   331.275000   319.850000   325.000000   \n",
       "75%     400.912500   401.000000   407.187500   395.000000   400.912500   \n",
       "max    1307.450000  1310.250000  1324.000000  1270.000000  1308.000000   \n",
       "\n",
       "             Close         VWAP        Volume      Turnover        Trades  \\\n",
       "count  3322.000000  3322.000000  3.322000e+03  3.322000e+03  2.456000e+03   \n",
       "mean    344.201626   344.853182  2.954564e+06  1.070144e+14  4.492259e+04   \n",
       "std     193.045886   193.841305  4.104227e+06  2.625564e+14  5.023124e+04   \n",
       "min     108.000000   108.340000  1.236600e+04  2.415857e+11  3.660000e+02   \n",
       "25%     164.312500   164.855000  7.493682e+05  1.817650e+13  2.083200e+04   \n",
       "50%     324.700000   325.765000  2.007292e+06  5.836041e+13  3.588150e+04   \n",
       "75%     400.912500   400.607500  3.636883e+06  1.158526e+14  5.336875e+04   \n",
       "max    1307.450000  1302.150000  9.771788e+07  8.160988e+15  1.205984e+06   \n",
       "\n",
       "       Deliverable Volume  %Deliverble  \n",
       "count        3.322000e+03  3322.000000  \n",
       "mean         1.207441e+06     0.445899  \n",
       "std          1.398640e+06     0.160496  \n",
       "min          5.383000e+03     0.067000  \n",
       "25%          3.212005e+05     0.332900  \n",
       "50%          8.132775e+05     0.445650  \n",
       "75%          1.605528e+06     0.555850  \n",
       "max          2.241652e+07     0.979800  "
      ]
     },
     "execution_count": 47,
     "metadata": {},
     "output_type": "execute_result"
    }
   ],
   "source": [
    "data.describe()"
   ]
  },
  {
   "cell_type": "code",
   "execution_count": 48,
   "metadata": {},
   "outputs": [
    {
     "name": "stdout",
     "output_type": "stream",
     "text": [
      "<class 'pandas.core.frame.DataFrame'>\n",
      "RangeIndex: 3322 entries, 0 to 3321\n",
      "Data columns (total 15 columns):\n",
      " #   Column              Non-Null Count  Dtype  \n",
      "---  ------              --------------  -----  \n",
      " 0   Date                3322 non-null   object \n",
      " 1   Symbol              3322 non-null   object \n",
      " 2   Series              3322 non-null   object \n",
      " 3   Prev Close          3322 non-null   float64\n",
      " 4   Open                3322 non-null   float64\n",
      " 5   High                3322 non-null   float64\n",
      " 6   Low                 3322 non-null   float64\n",
      " 7   Last                3322 non-null   float64\n",
      " 8   Close               3322 non-null   float64\n",
      " 9   VWAP                3322 non-null   float64\n",
      " 10  Volume              3322 non-null   int64  \n",
      " 11  Turnover            3322 non-null   float64\n",
      " 12  Trades              2456 non-null   float64\n",
      " 13  Deliverable Volume  3322 non-null   int64  \n",
      " 14  %Deliverble         3322 non-null   float64\n",
      "dtypes: float64(10), int64(2), object(3)\n",
      "memory usage: 389.4+ KB\n"
     ]
    }
   ],
   "source": [
    "data.info()"
   ]
  },
  {
   "cell_type": "code",
   "execution_count": 49,
   "metadata": {},
   "outputs": [
    {
     "data": {
      "text/plain": [
       "Date                    0\n",
       "Symbol                  0\n",
       "Series                  0\n",
       "Prev Close              0\n",
       "Open                    0\n",
       "High                    0\n",
       "Low                     0\n",
       "Last                    0\n",
       "Close                   0\n",
       "VWAP                    0\n",
       "Volume                  0\n",
       "Turnover                0\n",
       "Trades                866\n",
       "Deliverable Volume      0\n",
       "%Deliverble             0\n",
       "dtype: int64"
      ]
     },
     "execution_count": 49,
     "metadata": {},
     "output_type": "execute_result"
    }
   ],
   "source": [
    "data.isna().sum()"
   ]
  },
  {
   "cell_type": "code",
   "execution_count": 55,
   "metadata": {},
   "outputs": [],
   "source": [
    "df_close = data['Close']"
   ]
  },
  {
   "cell_type": "code",
   "execution_count": 56,
   "metadata": {},
   "outputs": [
    {
     "data": {
      "text/plain": [
       "(3322,)"
      ]
     },
     "execution_count": 56,
     "metadata": {},
     "output_type": "execute_result"
    }
   ],
   "source": [
    "df_close.shape"
   ]
  },
  {
   "cell_type": "code",
   "execution_count": 57,
   "metadata": {},
   "outputs": [
    {
     "data": {
      "text/plain": [
       "[<matplotlib.lines.Line2D at 0x14dceae7890>]"
      ]
     },
     "execution_count": 57,
     "metadata": {},
     "output_type": "execute_result"
    },
    {
     "data": {
      "image/png": "[encoded data removed]",
      "text/plain": [
       "<Figure size 640x480 with 1 Axes>"
      ]
     },
     "metadata": {},
     "output_type": "display_data"
    }
   ],
   "source": [
    "plt.plot(df_close)"
   ]
  },
  {
   "cell_type": "markdown",
   "metadata": {},
   "source": [
    "### Drop unnecessary Columns "
   ]
  },
  {
   "cell_type": "code",
   "execution_count": 58,
   "metadata": {},
   "outputs": [],
   "source": [
    "data = data[['Date','Close','Open','High','Low']]\n",
    "data = data.set_index('Date')"
   ]
  },
  {
   "cell_type": "markdown",
   "metadata": {},
   "source": [
    "### Data Preprocessing"
   ]
  },
  {
   "cell_type": "code",
   "execution_count": 59,
   "metadata": {},
   "outputs": [],
   "source": [
    "scaler = MinMaxScaler()\n",
    "data = scaler.fit_transform(data)"
   ]
  },
  {
   "cell_type": "markdown",
   "metadata": {},
   "source": [
    "### Create Sequences for training"
   ]
  },
  {
   "cell_type": "code",
   "execution_count": 52,
   "metadata": {},
   "outputs": [],
   "source": [
    "\n",
    "def Create_Sequences(data, seq_length):\n",
    "    sequences = []\n",
    "    target = []\n",
    "    for i in range(len(data) - seq_length):\n",
    "        sequences.append(data[i:i+seq_length])\n",
    "        target.append(data[i+seq_length])\n",
    "    return np.array(sequences), np.array(target)\n",
    "\n",
    "sequences_length = 10\n",
    "X,y = Create_Sequences(data, sequences_length)"
   ]
  },
  {
   "cell_type": "markdown",
   "metadata": {},
   "source": [
    "### Split the data into training and testing sets"
   ]
  },
  {
   "cell_type": "code",
   "execution_count": 53,
   "metadata": {},
   "outputs": [],
   "source": [
    "train_size = int(len(X) * 0.8)\n",
    "X_train, X_test = X[:train_size], X[train_size:]\n",
    "y_train, y_test = y[:train_size], y[train_size:]"
   ]
  },
  {
   "cell_type": "markdown",
   "metadata": {},
   "source": [
    "### Create and train the LSTM model"
   ]
  },
  {
   "cell_type": "code",
   "execution_count": 60,
   "metadata": {},
   "outputs": [],
   "source": [
    "model = Sequential()\n",
    "model.add(LSTM(units=50, activation='relu', return_sequences=True, input_shape =(sequences_length, data.shape[1])))\n",
    "model.add(LSTM(units=50, activation='relu'))\n",
    "model.add(Dense(data.shape[1]))"
   ]
  },
  {
   "cell_type": "code",
   "execution_count": 61,
   "metadata": {},
   "outputs": [
    {
     "name": "stdout",
     "output_type": "stream",
     "text": [
      "Epoch 1/100\n",
      "83/83 [==============================] - 5s 17ms/step - loss: 0.0113\n",
      "Epoch 2/100\n",
      "83/83 [==============================] - 1s 17ms/step - loss: 0.0011\n",
      "Epoch 3/100\n",
      "83/83 [==============================] - 1s 15ms/step - loss: 8.2253e-04\n",
      "Epoch 4/100\n",
      "83/83 [==============================] - 1s 17ms/step - loss: 6.8828e-04\n",
      "Epoch 5/100\n",
      "83/83 [==============================] - 1s 16ms/step - loss: 6.3839e-04\n",
      "Epoch 6/100\n",
      "83/83 [==============================] - 1s 15ms/step - loss: 5.5337e-04\n",
      "Epoch 7/100\n",
      "83/83 [==============================] - 1s 16ms/step - loss: 5.1974e-04\n",
      "Epoch 8/100\n",
      "83/83 [==============================] - 1s 16ms/step - loss: 5.5716e-04\n",
      "Epoch 9/100\n",
      "83/83 [==============================] - 1s 16ms/step - loss: 5.3414e-04\n",
      "Epoch 10/100\n",
      "83/83 [==============================] - 1s 16ms/step - loss: 6.0354e-04\n",
      "Epoch 11/100\n",
      "83/83 [==============================] - 1s 17ms/step - loss: 4.5569e-04\n",
      "Epoch 12/100\n",
      "83/83 [==============================] - 1s 17ms/step - loss: 4.1829e-04\n",
      "Epoch 13/100\n",
      "83/83 [==============================] - 1s 16ms/step - loss: 4.1927e-04\n",
      "Epoch 14/100\n",
      "83/83 [==============================] - 1s 16ms/step - loss: 4.1562e-04\n",
      "Epoch 15/100\n",
      "83/83 [==============================] - 1s 15ms/step - loss: 3.7985e-04\n",
      "Epoch 16/100\n",
      "83/83 [==============================] - 1s 16ms/step - loss: 3.6436e-04\n",
      "Epoch 17/100\n",
      "83/83 [==============================] - 1s 16ms/step - loss: 3.4443e-04\n",
      "Epoch 18/100\n",
      "83/83 [==============================] - 1s 16ms/step - loss: 3.6661e-04\n",
      "Epoch 19/100\n",
      "83/83 [==============================] - 1s 16ms/step - loss: 3.2345e-04\n",
      "Epoch 20/100\n",
      "83/83 [==============================] - 1s 16ms/step - loss: 3.0959e-04\n",
      "Epoch 21/100\n",
      "83/83 [==============================] - 1s 15ms/step - loss: 3.1613e-04\n",
      "Epoch 22/100\n",
      "83/83 [==============================] - 1s 17ms/step - loss: 2.9170e-04\n",
      "Epoch 23/100\n",
      "83/83 [==============================] - 2s 19ms/step - loss: 2.9173e-04\n",
      "Epoch 24/100\n",
      "83/83 [==============================] - 2s 19ms/step - loss: 3.0913e-04\n",
      "Epoch 25/100\n",
      "83/83 [==============================] - 1s 15ms/step - loss: 2.6942e-04\n",
      "Epoch 26/100\n",
      "83/83 [==============================] - 1s 15ms/step - loss: 3.0224e-04\n",
      "Epoch 27/100\n",
      "83/83 [==============================] - 1s 16ms/step - loss: 2.5017e-04\n",
      "Epoch 28/100\n",
      "83/83 [==============================] - 1s 16ms/step - loss: 2.7506e-04\n",
      "Epoch 29/100\n",
      "83/83 [==============================] - 1s 17ms/step - loss: 2.9230e-04\n",
      "Epoch 30/100\n",
      "83/83 [==============================] - 1s 15ms/step - loss: 2.6961e-04\n",
      "Epoch 31/100\n",
      "83/83 [==============================] - 1s 15ms/step - loss: 2.6462e-04\n",
      "Epoch 32/100\n",
      "83/83 [==============================] - 1s 16ms/step - loss: 2.7232e-04\n",
      "Epoch 33/100\n",
      "83/83 [==============================] - 1s 16ms/step - loss: 2.7058e-04\n",
      "Epoch 34/100\n",
      "83/83 [==============================] - 1s 17ms/step - loss: 2.4946e-04\n",
      "Epoch 35/100\n",
      "83/83 [==============================] - 1s 16ms/step - loss: 2.3551e-04\n",
      "Epoch 36/100\n",
      "83/83 [==============================] - 1s 15ms/step - loss: 2.8083e-04\n",
      "Epoch 37/100\n",
      "83/83 [==============================] - 1s 17ms/step - loss: 2.4846e-04\n",
      "Epoch 38/100\n",
      "83/83 [==============================] - 1s 16ms/step - loss: 2.5815e-04\n",
      "Epoch 39/100\n",
      "83/83 [==============================] - 1s 16ms/step - loss: 2.6060e-04\n",
      "Epoch 40/100\n",
      "83/83 [==============================] - 1s 16ms/step - loss: 2.5156e-04\n",
      "Epoch 41/100\n",
      "83/83 [==============================] - 1s 15ms/step - loss: 2.4429e-04\n",
      "Epoch 42/100\n",
      "83/83 [==============================] - 1s 15ms/step - loss: 2.5565e-04\n",
      "Epoch 43/100\n",
      "83/83 [==============================] - 1s 15ms/step - loss: 2.4442e-04\n",
      "Epoch 44/100\n",
      "83/83 [==============================] - 1s 16ms/step - loss: 2.3637e-04\n",
      "Epoch 45/100\n",
      "83/83 [==============================] - 1s 16ms/step - loss: 2.5580e-04\n",
      "Epoch 46/100\n",
      "83/83 [==============================] - 1s 16ms/step - loss: 2.4093e-04\n",
      "Epoch 47/100\n",
      "83/83 [==============================] - 1s 16ms/step - loss: 2.6682e-04\n",
      "Epoch 48/100\n",
      "83/83 [==============================] - 1s 16ms/step - loss: 2.7263e-04\n",
      "Epoch 49/100\n",
      "83/83 [==============================] - 1s 16ms/step - loss: 2.4521e-04\n",
      "Epoch 50/100\n",
      "83/83 [==============================] - 1s 15ms/step - loss: 2.4839e-04\n",
      "Epoch 51/100\n",
      "83/83 [==============================] - 1s 15ms/step - loss: 2.5505e-04\n",
      "Epoch 52/100\n",
      "83/83 [==============================] - 1s 15ms/step - loss: 2.3529e-04\n",
      "Epoch 53/100\n",
      "83/83 [==============================] - 1s 16ms/step - loss: 2.6874e-04\n",
      "Epoch 54/100\n",
      "83/83 [==============================] - 1s 16ms/step - loss: 2.1593e-04\n",
      "Epoch 55/100\n",
      "83/83 [==============================] - 1s 17ms/step - loss: 2.3624e-04\n",
      "Epoch 56/100\n",
      "83/83 [==============================] - 1s 16ms/step - loss: 2.4410e-04\n",
      "Epoch 57/100\n",
      "83/83 [==============================] - 1s 16ms/step - loss: 2.3385e-04\n",
      "Epoch 58/100\n",
      "83/83 [==============================] - 1s 16ms/step - loss: 2.7216e-04\n",
      "Epoch 59/100\n",
      "83/83 [==============================] - 1s 16ms/step - loss: 2.2830e-04\n",
      "Epoch 60/100\n",
      "83/83 [==============================] - 1s 16ms/step - loss: 2.5328e-04\n",
      "Epoch 61/100\n",
      "83/83 [==============================] - 1s 16ms/step - loss: 2.5853e-04\n",
      "Epoch 62/100\n",
      "83/83 [==============================] - 1s 16ms/step - loss: 2.2355e-04\n",
      "Epoch 63/100\n",
      "83/83 [==============================] - 1s 16ms/step - loss: 2.5277e-04\n",
      "Epoch 64/100\n",
      "83/83 [==============================] - 1s 16ms/step - loss: 2.4696e-04\n",
      "Epoch 65/100\n",
      "83/83 [==============================] - 1s 16ms/step - loss: 2.2138e-04\n",
      "Epoch 66/100\n",
      "83/83 [==============================] - 1s 16ms/step - loss: 2.3425e-04\n",
      "Epoch 67/100\n",
      "83/83 [==============================] - 1s 17ms/step - loss: 2.2167e-04\n",
      "Epoch 68/100\n",
      "83/83 [==============================] - 1s 16ms/step - loss: 2.3820e-04\n",
      "Epoch 69/100\n",
      "83/83 [==============================] - 1s 17ms/step - loss: 2.3357e-04\n",
      "Epoch 70/100\n",
      "83/83 [==============================] - 1s 15ms/step - loss: 2.2514e-04\n",
      "Epoch 71/100\n",
      "83/83 [==============================] - 1s 16ms/step - loss: 2.4250e-04\n",
      "Epoch 72/100\n",
      "83/83 [==============================] - 1s 15ms/step - loss: 2.3311e-04\n",
      "Epoch 73/100\n",
      "83/83 [==============================] - 1s 16ms/step - loss: 2.5652e-04\n",
      "Epoch 74/100\n",
      "83/83 [==============================] - 1s 16ms/step - loss: 2.4188e-04\n",
      "Epoch 75/100\n",
      "83/83 [==============================] - 1s 17ms/step - loss: 2.3076e-04\n",
      "Epoch 76/100\n",
      "83/83 [==============================] - 1s 16ms/step - loss: 2.2656e-04\n",
      "Epoch 77/100\n",
      "83/83 [==============================] - 1s 15ms/step - loss: 2.5838e-04\n",
      "Epoch 78/100\n",
      "83/83 [==============================] - 1s 16ms/step - loss: 2.4645e-04\n",
      "Epoch 79/100\n",
      "83/83 [==============================] - 1s 16ms/step - loss: 2.4289e-04\n",
      "Epoch 80/100\n",
      "83/83 [==============================] - 1s 16ms/step - loss: 2.3401e-04\n",
      "Epoch 81/100\n",
      "83/83 [==============================] - 2s 18ms/step - loss: 2.2622e-04\n",
      "Epoch 82/100\n",
      "83/83 [==============================] - 1s 16ms/step - loss: 2.2721e-04\n",
      "Epoch 83/100\n",
      "83/83 [==============================] - 1s 16ms/step - loss: 2.2498e-04\n",
      "Epoch 84/100\n",
      "83/83 [==============================] - 1s 16ms/step - loss: 2.2027e-04\n",
      "Epoch 85/100\n",
      "83/83 [==============================] - 1s 15ms/step - loss: 2.3397e-04\n",
      "Epoch 86/100\n",
      "83/83 [==============================] - 1s 16ms/step - loss: 2.4237e-04\n",
      "Epoch 87/100\n",
      "83/83 [==============================] - 1s 16ms/step - loss: 2.3045e-04\n",
      "Epoch 88/100\n",
      "83/83 [==============================] - 1s 16ms/step - loss: 2.2600e-04\n",
      "Epoch 89/100\n",
      "83/83 [==============================] - 1s 16ms/step - loss: 2.2654e-04\n",
      "Epoch 90/100\n",
      "83/83 [==============================] - 1s 16ms/step - loss: 2.1525e-04\n",
      "Epoch 91/100\n",
      "83/83 [==============================] - 1s 16ms/step - loss: 2.1843e-04\n",
      "Epoch 92/100\n",
      "83/83 [==============================] - 1s 16ms/step - loss: 2.1567e-04\n",
      "Epoch 93/100\n",
      "83/83 [==============================] - 1s 15ms/step - loss: 2.3137e-04\n",
      "Epoch 94/100\n",
      "83/83 [==============================] - 1s 15ms/step - loss: 2.1372e-04\n",
      "Epoch 95/100\n",
      "83/83 [==============================] - 1s 16ms/step - loss: 2.1505e-04\n",
      "Epoch 96/100\n",
      "83/83 [==============================] - 1s 16ms/step - loss: 2.2137e-04\n",
      "Epoch 97/100\n",
      "83/83 [==============================] - 1s 15ms/step - loss: 2.5315e-04\n",
      "Epoch 98/100\n",
      "83/83 [==============================] - 1s 16ms/step - loss: 2.3240e-04\n",
      "Epoch 99/100\n",
      "83/83 [==============================] - 1s 16ms/step - loss: 2.0973e-04\n",
      "Epoch 100/100\n",
      "83/83 [==============================] - 1s 16ms/step - loss: 2.2093e-04\n"
     ]
    },
    {
     "data": {
      "text/plain": [
       "<keras.src.callbacks.History at 0x14dcfc23410>"
      ]
     },
     "execution_count": 61,
     "metadata": {},
     "output_type": "execute_result"
    }
   ],
   "source": [
    "model.compile(optimizer='adam', loss='mean_squared_error')\n",
    "model.fit(X_train, y_train, epochs=100, batch_size=32)"
   ]
  },
  {
   "cell_type": "markdown",
   "metadata": {},
   "source": [
    "### Make predictions"
   ]
  },
  {
   "cell_type": "code",
   "execution_count": 62,
   "metadata": {},
   "outputs": [
    {
     "name": "stdout",
     "output_type": "stream",
     "text": [
      "83/83 [==============================] - 1s 9ms/step\n",
      "21/21 [==============================] - 0s 9ms/step\n"
     ]
    }
   ],
   "source": [
    "train_predictions = model.predict(X_train)\n",
    "test_predictions = model.predict(X_test)"
   ]
  },
  {
   "cell_type": "markdown",
   "metadata": {},
   "source": [
    "### Inverse transform scaling"
   ]
  },
  {
   "cell_type": "code",
   "execution_count": 63,
   "metadata": {},
   "outputs": [],
   "source": [
    "train_predictions = scaler.inverse_transform(train_predictions)\n",
    "test_predictions = scaler.inverse_transform(test_predictions)\n",
    "y_train = scaler.inverse_transform(y_train)\n",
    "y_test = scaler.inverse_transform(y_test)"
   ]
  },
  {
   "cell_type": "markdown",
   "metadata": {},
   "source": [
    "### Calculate and print RMSE (Root Mean Squared Error) for the test set"
   ]
  },
  {
   "cell_type": "code",
   "execution_count": 64,
   "metadata": {},
   "outputs": [
    {
     "name": "stdout",
     "output_type": "stream",
     "text": [
      "Root Mean Squared Error (RMSE) on Test Data: 11.351635975666353\n"
     ]
    }
   ],
   "source": [
    "rmse = np.sqrt(mean_squared_error(y_test, test_predictions))\n",
    "print(f\"Root Mean Squared Error (RMSE) on Test Data: {rmse}\")"
   ]
  },
  {
   "cell_type": "markdown",
   "metadata": {},
   "source": [
    "### Plot the results"
   ]
  },
  {
   "cell_type": "code",
   "execution_count": 67,
   "metadata": {},
   "outputs": [
    {
     "data": {
      "image/png": "[encoded data removed]",
      "text/plain": [
       "<Figure size 1600x800 with 1 Axes>"
      ]
     },
     "metadata": {},
     "output_type": "display_data"
    }
   ],
   "source": [
    "plt.figure(figsize=(16,8))\n",
    "plt.title('Stock Market Prediction and Forcasting')\n",
    "plt.xlabel('Date Index')\n",
    "plt.ylabel('close Price')\n",
    "plt.plot(np.arange(len(train_predictions)), y_train[:, 0], label='Train Data')\n",
    "plt.plot(np.arange(len(train_predictions) + sequences_length,len(data)), y_test[:, 0], label='Test Data')\n",
    "plt.plot(np.arange(len(train_predictions)), train_predictions[:, 0], label='Train Predictions')\n",
    "plt.plot(np.arange(len(train_predictions) + sequences_length,len (data)), test_predictions[:,0], label='Test Predictions')\n",
    "plt.legend()\n",
    "plt.show()"
   ]
  },
  {
   "cell_type": "code",
   "execution_count": null,
   "metadata": {},
   "outputs": [],
   "source": []
  }
 ],
 "metadata": {
  "kernelspec": {
   "display_name": "Python 3",
   "language": "python",
   "name": "python3"
  },
  "language_info": {
   "codemirror_mode": {
    "name": "ipython",
    "version": 3
   },
   "file_extension": ".py",
   "mimetype": "text/x-python",
   "name": "python",
   "nbconvert_exporter": "python",
   "pygments_lexer": "ipython3",
   "version": "3.11.1"
  }
 },
 "nbformat": 4,
 "nbformat_minor": 2
}
